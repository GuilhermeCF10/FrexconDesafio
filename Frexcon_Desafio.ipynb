{
  "cells": [
    {
      "cell_type": "markdown",
      "metadata": {
        "id": "ayKzhW4tbwgf"
      },
      "source": [
        "# Frexcon"
      ]
    },
    {
      "attachments": {},
      "cell_type": "markdown",
      "metadata": {
        "id": "AmiV8rNYfJyj"
      },
      "source": [
        "## Desafio Data Analitycs\n",
        "\n",
        "O desafio é o seguinte:\n",
        "\n",
        "Previsão de demanda é uma projeção realizada com o intuito de prever o potencial de vendas de um ou mais produtos em um cenário futuro. \n",
        "\n",
        "Com base em dados e informações, numéricas e intencionais, o objetivo da previsão é aproximar ao máximo a perspectiva da realidade. Embora não seja possível determinar as ações do futuro, a estimativa permite guiar a tomada de decisão e elaborar um planejamento mais estratégico, voltado para as possibilidades reais do negócio.\n",
        "\n",
        "Nos diversos setores, a previsão de demanda serve de amparo para nortear e orientar as ações mais importantes.\n",
        "\n",
        "Nós, da Frexco, trabalhamos com produtos perecíveis e muitos deles possuem uma data de validade curta. Acertar na previsão de demanda é essencial para evitarmos o desperdício de alimentos, além de também ser importante garantir que tenhamos o produto disponível no estoque para venda.\n",
        "\n",
        "Tendo isso em mente, estruture um script no Python que calcule a previsão de demanda para os próximos 5 dias do item, baseando-se no histórico presente na base de dados em anexo.\n",
        "\n",
        "Obs: O modelo de previsão pode ser o que você julgue ser o melhor, mas atenção aos detalhes de variação nas vendas! \n",
        "\n",
        "\n",
        "#### Feito no Google Colaboratory!"
      ]
    },
    {
      "attachments": {},
      "cell_type": "markdown",
      "metadata": {},
      "source": [
        "## Instalando dependencias"
      ]
    },
    {
      "cell_type": "code",
      "execution_count": 2,
      "metadata": {},
      "outputs": [
        {
          "name": "stdout",
          "output_type": "stream",
          "text": [
            "Defaulting to user installation because normal site-packages is not writeable\n",
            "Collecting statsmodels\n",
            "  Downloading statsmodels-0.13.5-cp310-cp310-manylinux_2_17_x86_64.manylinux2014_x86_64.whl (9.9 MB)\n",
            "\u001b[2K     \u001b[38;2;114;156;31m━━━━━━━━━━━━━━━━━━━━━━━━━━━━━━━━━━━━━━━━\u001b[0m \u001b[32m9.9/9.9 MB\u001b[0m \u001b[31m3.6 MB/s\u001b[0m eta \u001b[36m0:00:00\u001b[0mm eta \u001b[36m0:00:01\u001b[0m[36m0:00:01\u001b[0m\n",
            "\u001b[?25hRequirement already satisfied: pandas>=0.25 in /home/guilherme/.local/lib/python3.10/site-packages (from statsmodels) (1.5.2)\n",
            "Collecting scipy>=1.3\n",
            "  Downloading scipy-1.10.0-cp310-cp310-manylinux_2_17_x86_64.manylinux2014_x86_64.whl (34.4 MB)\n",
            "\u001b[2K     \u001b[38;2;114;156;31m━━━━━━━━━━━━━━━━━━━━━━━━━━━━━━━━━━━━━━━━\u001b[0m \u001b[32m34.4/34.4 MB\u001b[0m \u001b[31m3.3 MB/s\u001b[0m eta \u001b[36m0:00:00\u001b[0mm eta \u001b[36m0:00:01\u001b[0m[36m0:00:01\u001b[0m\n",
            "\u001b[?25hRequirement already satisfied: packaging>=21.3 in /home/guilherme/.local/lib/python3.10/site-packages (from statsmodels) (23.0)\n",
            "Requirement already satisfied: numpy>=1.17 in /home/guilherme/.local/lib/python3.10/site-packages (from statsmodels) (1.24.1)\n",
            "Collecting patsy>=0.5.2\n",
            "  Downloading patsy-0.5.3-py2.py3-none-any.whl (233 kB)\n",
            "\u001b[2K     \u001b[38;2;114;156;31m━━━━━━━━━━━━━━━━━━━━━━━━━━━━━━━━━━━━━━━\u001b[0m \u001b[32m233.8/233.8 KB\u001b[0m \u001b[31m3.9 MB/s\u001b[0m eta \u001b[36m0:00:00\u001b[0m[31m4.7 MB/s\u001b[0m eta \u001b[36m0:00:01\u001b[0m\n",
            "\u001b[?25hRequirement already satisfied: pytz>=2020.1 in /usr/lib/python3/dist-packages (from pandas>=0.25->statsmodels) (2022.1)\n",
            "Requirement already satisfied: python-dateutil>=2.8.1 in /home/guilherme/.local/lib/python3.10/site-packages (from pandas>=0.25->statsmodels) (2.8.2)\n",
            "Requirement already satisfied: six in /usr/lib/python3/dist-packages (from patsy>=0.5.2->statsmodels) (1.16.0)\n",
            "Installing collected packages: scipy, patsy, statsmodels\n",
            "Successfully installed patsy-0.5.3 scipy-1.10.0 statsmodels-0.13.5\n"
          ]
        }
      ],
      "source": [
        "!pip install statsmodels"
      ]
    },
    {
      "cell_type": "code",
      "execution_count": 3,
      "metadata": {},
      "outputs": [
        {
          "name": "stdout",
          "output_type": "stream",
          "text": [
            "Defaulting to user installation because normal site-packages is not writeable\n",
            "Requirement already satisfied: pandas in /home/guilherme/.local/lib/python3.10/site-packages (1.5.2)\n",
            "Requirement already satisfied: pytz>=2020.1 in /usr/lib/python3/dist-packages (from pandas) (2022.1)\n",
            "Requirement already satisfied: python-dateutil>=2.8.1 in /home/guilherme/.local/lib/python3.10/site-packages (from pandas) (2.8.2)\n",
            "Requirement already satisfied: numpy>=1.21.0 in /home/guilherme/.local/lib/python3.10/site-packages (from pandas) (1.24.1)\n",
            "Requirement already satisfied: six>=1.5 in /usr/lib/python3/dist-packages (from python-dateutil>=2.8.1->pandas) (1.16.0)\n"
          ]
        }
      ],
      "source": [
        "!pip install pandas"
      ]
    },
    {
      "cell_type": "code",
      "execution_count": 4,
      "metadata": {},
      "outputs": [
        {
          "name": "stdout",
          "output_type": "stream",
          "text": [
            "Defaulting to user installation because normal site-packages is not writeable\n",
            "Requirement already satisfied: numpy in /home/guilherme/.local/lib/python3.10/site-packages (1.24.1)\n"
          ]
        }
      ],
      "source": [
        "!pip install numpy"
      ]
    },
    {
      "cell_type": "code",
      "execution_count": 5,
      "metadata": {},
      "outputs": [
        {
          "name": "stdout",
          "output_type": "stream",
          "text": [
            "Defaulting to user installation because normal site-packages is not writeable\n",
            "Requirement already satisfied: matplotlib in /home/guilherme/.local/lib/python3.10/site-packages (3.6.3)\n",
            "Requirement already satisfied: numpy>=1.19 in /home/guilherme/.local/lib/python3.10/site-packages (from matplotlib) (1.24.1)\n",
            "Requirement already satisfied: contourpy>=1.0.1 in /home/guilherme/.local/lib/python3.10/site-packages (from matplotlib) (1.0.7)\n",
            "Requirement already satisfied: packaging>=20.0 in /home/guilherme/.local/lib/python3.10/site-packages (from matplotlib) (23.0)\n",
            "Requirement already satisfied: pyparsing>=2.2.1 in /usr/lib/python3/dist-packages (from matplotlib) (2.4.7)\n",
            "Requirement already satisfied: python-dateutil>=2.7 in /home/guilherme/.local/lib/python3.10/site-packages (from matplotlib) (2.8.2)\n",
            "Requirement already satisfied: fonttools>=4.22.0 in /home/guilherme/.local/lib/python3.10/site-packages (from matplotlib) (4.38.0)\n",
            "Requirement already satisfied: cycler>=0.10 in /home/guilherme/.local/lib/python3.10/site-packages (from matplotlib) (0.11.0)\n",
            "Requirement already satisfied: pillow>=6.2.0 in /usr/lib/python3/dist-packages (from matplotlib) (9.0.1)\n",
            "Requirement already satisfied: kiwisolver>=1.0.1 in /home/guilherme/.local/lib/python3.10/site-packages (from matplotlib) (1.4.4)\n",
            "Requirement already satisfied: six>=1.5 in /usr/lib/python3/dist-packages (from python-dateutil>=2.7->matplotlib) (1.16.0)\n"
          ]
        }
      ],
      "source": [
        "!pip install matplotlib"
      ]
    },
    {
      "cell_type": "code",
      "execution_count": 9,
      "metadata": {},
      "outputs": [
        {
          "name": "stdout",
          "output_type": "stream",
          "text": [
            "Defaulting to user installation because normal site-packages is not writeable\n",
            "Collecting openpyxl\n",
            "  Downloading openpyxl-3.1.0-py2.py3-none-any.whl (250 kB)\n",
            "\u001b[2K     \u001b[38;2;114;156;31m━━━━━━━━━━━━━━━━━━━━━━━━━━━━━━━━━━━━━━━\u001b[0m \u001b[32m250.0/250.0 KB\u001b[0m \u001b[31m1.9 MB/s\u001b[0m eta \u001b[36m0:00:00\u001b[0m[36m0:00:01\u001b[0m[36m0:00:01\u001b[0m:01\u001b[0m\n",
            "\u001b[?25hCollecting et-xmlfile\n",
            "  Downloading et_xmlfile-1.1.0-py3-none-any.whl (4.7 kB)\n",
            "Installing collected packages: et-xmlfile, openpyxl\n",
            "Successfully installed et-xmlfile-1.1.0 openpyxl-3.1.0\n"
          ]
        }
      ],
      "source": [
        "!pip install openpyxl"
      ]
    },
    {
      "cell_type": "markdown",
      "metadata": {
        "id": "yWGn5nl6STR5"
      },
      "source": [
        "## Importando bibliotecas necessárias"
      ]
    },
    {
      "cell_type": "code",
      "execution_count": 10,
      "metadata": {
        "id": "318JzCuIM6Tz"
      },
      "outputs": [],
      "source": [
        "import pandas as pd\n",
        "import math\n",
        "import matplotlib.pyplot as plt\n",
        "import pandas as pd\n",
        "import statsmodels.api as sm\n",
        "import numpy as np\n",
        "from datetime import timedelta, date"
      ]
    },
    {
      "cell_type": "markdown",
      "metadata": {
        "id": "dgKcaC7lSn-4"
      },
      "source": [
        "## Carregando a planilha em um DataFrame"
      ]
    },
    {
      "cell_type": "code",
      "execution_count": 11,
      "metadata": {
        "id": "UogIzOTDNvbw"
      },
      "outputs": [],
      "source": [
        "data = pd.read_excel('Dados.xlsx', usecols=[0, 1])"
      ]
    },
    {
      "cell_type": "markdown",
      "metadata": {
        "id": "98vX1A3NcLrx"
      },
      "source": [
        "### Manipulando Dataframe"
      ]
    },
    {
      "cell_type": "markdown",
      "metadata": {
        "id": "7-NYJchRSvxz"
      },
      "source": [
        "####  Adicionando colunas para os marcadores de tempo"
      ]
    },
    {
      "cell_type": "code",
      "execution_count": 12,
      "metadata": {
        "id": "s_-CjCqgNxAD"
      },
      "outputs": [],
      "source": [
        "data['DiasDaSemana'] = data['Data'].dt.dayofweek\n",
        "data['DiasDoMes'] = data['Data'].dt.day"
      ]
    },
    {
      "cell_type": "markdown",
      "metadata": {
        "id": "WXG9Jw3ThOog"
      },
      "source": [
        "#### Definindo as covariáveis para o modelo"
      ]
    },
    {
      "cell_type": "code",
      "execution_count": 13,
      "metadata": {
        "id": "Ros_h7lkf0xa"
      },
      "outputs": [],
      "source": [
        "X = data[['DiasDaSemana', 'DiasDoMes']]\n",
        "X = sm.add_constant(X)\n",
        "y = data['Vendas']"
      ]
    },
    {
      "cell_type": "markdown",
      "metadata": {
        "id": "tcYJgxBXhT4b"
      },
      "source": [
        "## Treinando o modelo de regressão linear"
      ]
    },
    {
      "cell_type": "code",
      "execution_count": 14,
      "metadata": {
        "id": "GGx0cMSHhZur"
      },
      "outputs": [],
      "source": [
        "model = sm.OLS(y, X).fit()"
      ]
    },
    {
      "cell_type": "markdown",
      "metadata": {
        "id": "qj6tkDbAhh98"
      },
      "source": [
        "#### Realizando a previsão para os próximos 5 dias\n"
      ]
    },
    {
      "cell_type": "code",
      "execution_count": 15,
      "metadata": {
        "id": "gM--6sHUhkzd"
      },
      "outputs": [],
      "source": [
        "next_days = pd.DataFrame({'DiasDaSemana': [6, 0, 1, 2, 3],\n",
        "                          'DiasDoMes': [6, 7, 8, 9, 10]})\n",
        "next_days = sm.add_constant(next_days)\n",
        "\n",
        "forecast = model.predict(next_days)"
      ]
    },
    {
      "cell_type": "markdown",
      "metadata": {
        "id": "3ZMKMZ3LhoH_"
      },
      "source": [
        "#### Formatando valores"
      ]
    },
    {
      "cell_type": "code",
      "execution_count": 20,
      "metadata": {
        "id": "7viH5GpPhnTB"
      },
      "outputs": [],
      "source": [
        "axesY = []\n",
        "for i in range(5):\n",
        "  axesY.append(math.floor(forecast[i]))\n",
        "\n",
        "lastDate = date(2023,1,20)\n",
        "newDates = []\n",
        "for x in range(1,6):\n",
        "  newDates.append((lastDate + timedelta(days=x)).strftime(\"%d/%m/%Y\"))"
      ]
    },
    {
      "cell_type": "markdown",
      "metadata": {
        "id": "Wd_9rnMTkHwZ"
      },
      "source": [
        "## Demonstrando resultados"
      ]
    },
    {
      "cell_type": "markdown",
      "metadata": {
        "id": "gZDRBHEmkLXF"
      },
      "source": [
        "### Função para plotar o gráfico\n"
      ]
    },
    {
      "cell_type": "code",
      "execution_count": 21,
      "metadata": {
        "id": "hAOkNN_gkPxf"
      },
      "outputs": [],
      "source": [
        "def Grafico(x, y):\n",
        "  # Adicionando labels e título\n",
        "  plt.xlabel('Dias')\n",
        "  plt.ylabel('Vendas')\n",
        "  plt.title('Expectativa de vendas para os próximos 5 dias')\n",
        "\n",
        "  # Plotar gráfico com pontos\n",
        "  plt.plot(x, y)\n",
        "  plt.scatter(x, y)\n",
        "\n",
        "  # Mostrar o gráfico\n",
        "  plt.show()"
      ]
    },
    {
      "cell_type": "markdown",
      "metadata": {
        "id": "dPEF-6JSnDJF"
      },
      "source": [
        "### Função para mostrar em dataframe"
      ]
    },
    {
      "cell_type": "code",
      "execution_count": 22,
      "metadata": {
        "id": "ZC3fWtiAnI9t"
      },
      "outputs": [],
      "source": [
        "def Dataframe(x, y):\n",
        "  print(\"\\nPrevisão de vendas:\\n\")\n",
        "  dataframe = pd.DataFrame({'Data': x, 'Vendas': y})\n",
        "  display(dataframe)"
      ]
    },
    {
      "cell_type": "markdown",
      "metadata": {
        "id": "Tr5tPUfZkrq4"
      },
      "source": [
        "### Demonstrando resultados"
      ]
    },
    {
      "cell_type": "code",
      "execution_count": 23,
      "metadata": {
        "colab": {
          "base_uri": "https://localhost:8080/",
          "height": 536
        },
        "id": "PIIBb3TtjQQ-",
        "outputId": "f1386c4a-c99f-4876-9a2d-b874c965a953"
      },
      "outputs": [
        {
          "data": {
            "image/png": "[encoded data removed]",
            "text/plain": [
              "<Figure size 640x480 with 1 Axes>"
            ]
          },
          "metadata": {},
          "output_type": "display_data"
        },
        {
          "name": "stdout",
          "output_type": "stream",
          "text": [
            "\n",
            "Previsão de vendas:\n",
            "\n"
          ]
        },
        {
          "data": {
            "text/html": [
              "<div>\n",
              "<style scoped>\n",
              "    .dataframe tbody tr th:only-of-type {\n",
              "        vertical-align: middle;\n",
              "    }\n",
              "\n",
              "    .dataframe tbody tr th {\n",
              "        vertical-align: top;\n",
              "    }\n",
              "\n",
              "    .dataframe thead th {\n",
              "        text-align: right;\n",
              "    }\n",
              "</style>\n",
              "<table border=\"1\" class=\"dataframe\">\n",
              "  <thead>\n",
              "    <tr style=\"text-align: right;\">\n",
              "      <th></th>\n",
              "      <th>Data</th>\n",
              "      <th>Vendas</th>\n",
              "    </tr>\n",
              "  </thead>\n",
              "  <tbody>\n",
              "    <tr>\n",
              "      <th>0</th>\n",
              "      <td>21/01/2023</td>\n",
              "      <td>445</td>\n",
              "    </tr>\n",
              "    <tr>\n",
              "      <th>1</th>\n",
              "      <td>22/01/2023</td>\n",
              "      <td>1266</td>\n",
              "    </tr>\n",
              "    <tr>\n",
              "      <th>2</th>\n",
              "      <td>23/01/2023</td>\n",
              "      <td>1115</td>\n",
              "    </tr>\n",
              "    <tr>\n",
              "      <th>3</th>\n",
              "      <td>24/01/2023</td>\n",
              "      <td>963</td>\n",
              "    </tr>\n",
              "    <tr>\n",
              "      <th>4</th>\n",
              "      <td>25/01/2023</td>\n",
              "      <td>812</td>\n",
              "    </tr>\n",
              "  </tbody>\n",
              "</table>\n",
              "</div>"
            ],
            "text/plain": [
              "         Data  Vendas\n",
              "0  21/01/2023     445\n",
              "1  22/01/2023    1266\n",
              "2  23/01/2023    1115\n",
              "3  24/01/2023     963\n",
              "4  25/01/2023     812"
            ]
          },
          "metadata": {},
          "output_type": "display_data"
        }
      ],
      "source": [
        "Grafico(newDates, axesY)\n",
        "\n",
        "Dataframe(newDates, axesY)"
      ]
    }
  ],
  "metadata": {
    "colab": {
      "collapsed_sections": [
        "AmiV8rNYfJyj",
        "A-ENYMNeSjBe"
      ],
      "provenance": [],
      "toc_visible": true
    },
    "kernelspec": {
      "display_name": "Python 3",
      "language": "python",
      "name": "python3"
    },
    "language_info": {
      "codemirror_mode": {
        "name": "ipython",
        "version": 3
      },
      "file_extension": ".py",
      "mimetype": "text/x-python",
      "name": "python",
      "nbconvert_exporter": "python",
      "pygments_lexer": "ipython3",
      "version": "3.10.6"
    },
    "vscode": {
      "interpreter": {
        "hash": "916dbcbb3f70747c44a77c7bcd40155683ae19c65e1c03b4aa3499c5328201f1"
      }
    }
  },
  "nbformat": 4,
  "nbformat_minor": 0
}
